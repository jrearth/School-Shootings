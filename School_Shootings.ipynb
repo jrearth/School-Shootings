{
 "cells": [
  {
   "cell_type": "code",
   "execution_count": 26,
   "metadata": {},
   "outputs": [],
   "source": [
    "#import needed models and data to create Data frame.\n",
    "import pandas as pd \n",
    "import matplotlib.pyplot as plt\n",
    "\n",
    "df = pd.read_csv(\"C:/Users/jcosta/Documents/Internal_Docs/K-12_SSDB_Public.csv\", header=1)"
   ]
  },
  {
   "cell_type": "code",
   "execution_count": 27,
   "metadata": {},
   "outputs": [
    {
     "data": {
      "text/html": [
       "<div>\n",
       "<style scoped>\n",
       "    .dataframe tbody tr th:only-of-type {\n",
       "        vertical-align: middle;\n",
       "    }\n",
       "\n",
       "    .dataframe tbody tr th {\n",
       "        vertical-align: top;\n",
       "    }\n",
       "\n",
       "    .dataframe thead th {\n",
       "        text-align: right;\n",
       "    }\n",
       "</style>\n",
       "<table border=\"1\" class=\"dataframe\">\n",
       "  <thead>\n",
       "    <tr style=\"text-align: right;\">\n",
       "      <th></th>\n",
       "      <th>Date</th>\n",
       "      <th>School</th>\n",
       "      <th>City</th>\n",
       "      <th>State</th>\n",
       "      <th>Reliability Score (1-5)</th>\n",
       "      <th>Killed (includes shooter)</th>\n",
       "      <th>Wounded</th>\n",
       "      <th>Total Injured/Killed Victims</th>\n",
       "      <th>Gender of Victims (M/F/Both)</th>\n",
       "      <th>Victim's Affiliation w/ School</th>\n",
       "      <th>...</th>\n",
       "      <th>Caliber of Firearm</th>\n",
       "      <th>Number of Shooters</th>\n",
       "      <th>Shooter Name</th>\n",
       "      <th>Shooter Age</th>\n",
       "      <th>Shooter Gender</th>\n",
       "      <th>Shooter Race</th>\n",
       "      <th>Shooter Ethnicity</th>\n",
       "      <th>Shooter's Affiliation with School</th>\n",
       "      <th>Shooter had an accomplice who did not fire gun (Y/N)</th>\n",
       "      <th>Hostages Taken (Y/N)</th>\n",
       "    </tr>\n",
       "  </thead>\n",
       "  <tbody>\n",
       "    <tr>\n",
       "      <th>0</th>\n",
       "      <td>1/5/1970</td>\n",
       "      <td>Hine Junior High School</td>\n",
       "      <td>Washington</td>\n",
       "      <td>DC</td>\n",
       "      <td>3.0</td>\n",
       "      <td>1</td>\n",
       "      <td>0.0</td>\n",
       "      <td>1</td>\n",
       "      <td>Male</td>\n",
       "      <td>Student</td>\n",
       "      <td>...</td>\n",
       "      <td>Unknown</td>\n",
       "      <td>1.0</td>\n",
       "      <td>Minor</td>\n",
       "      <td>15.0</td>\n",
       "      <td>M</td>\n",
       "      <td>Unknown</td>\n",
       "      <td>Unknown</td>\n",
       "      <td>Student</td>\n",
       "      <td>Y</td>\n",
       "      <td>N</td>\n",
       "    </tr>\n",
       "    <tr>\n",
       "      <th>1</th>\n",
       "      <td>1/5/1970</td>\n",
       "      <td>Sousa Junior High</td>\n",
       "      <td>Washington</td>\n",
       "      <td>DC</td>\n",
       "      <td>3.0</td>\n",
       "      <td>0</td>\n",
       "      <td>1.0</td>\n",
       "      <td>1</td>\n",
       "      <td>Male</td>\n",
       "      <td>Student</td>\n",
       "      <td>...</td>\n",
       "      <td>.22 caliber</td>\n",
       "      <td>1.0</td>\n",
       "      <td>Minor</td>\n",
       "      <td>NaN</td>\n",
       "      <td>M</td>\n",
       "      <td>Unknown</td>\n",
       "      <td>Unknown</td>\n",
       "      <td>Student</td>\n",
       "      <td>N</td>\n",
       "      <td>N</td>\n",
       "    </tr>\n",
       "    <tr>\n",
       "      <th>2</th>\n",
       "      <td>1/5/1970</td>\n",
       "      <td>Unnamed High School</td>\n",
       "      <td>Washington</td>\n",
       "      <td>DC</td>\n",
       "      <td>2.0</td>\n",
       "      <td>0</td>\n",
       "      <td>0.0</td>\n",
       "      <td>0</td>\n",
       "      <td>No Victims</td>\n",
       "      <td>No Victims</td>\n",
       "      <td>...</td>\n",
       "      <td>Unknown</td>\n",
       "      <td>1.0</td>\n",
       "      <td>Unknown</td>\n",
       "      <td>NaN</td>\n",
       "      <td>M</td>\n",
       "      <td>Unknown</td>\n",
       "      <td>Unknown</td>\n",
       "      <td>Student</td>\n",
       "      <td>Y</td>\n",
       "      <td>N</td>\n",
       "    </tr>\n",
       "    <tr>\n",
       "      <th>3</th>\n",
       "      <td>2/6/1970</td>\n",
       "      <td>John F. Kennedy High School</td>\n",
       "      <td>Cleveland</td>\n",
       "      <td>OH</td>\n",
       "      <td>2.0</td>\n",
       "      <td>0</td>\n",
       "      <td>1.0</td>\n",
       "      <td>1</td>\n",
       "      <td>Male</td>\n",
       "      <td>Student</td>\n",
       "      <td>...</td>\n",
       "      <td>Unknown</td>\n",
       "      <td>1.0</td>\n",
       "      <td>Gertis J. Perry</td>\n",
       "      <td>18.0</td>\n",
       "      <td>M</td>\n",
       "      <td>Unknown</td>\n",
       "      <td>Not Hispanic or Latino</td>\n",
       "      <td>Student</td>\n",
       "      <td>N</td>\n",
       "      <td>N</td>\n",
       "    </tr>\n",
       "    <tr>\n",
       "      <th>4</th>\n",
       "      <td>3/23/1970</td>\n",
       "      <td>David Starr Jordan High School</td>\n",
       "      <td>Long Beach</td>\n",
       "      <td>CA</td>\n",
       "      <td>2.0</td>\n",
       "      <td>0</td>\n",
       "      <td>2.0</td>\n",
       "      <td>2</td>\n",
       "      <td>Male</td>\n",
       "      <td>Multiple Victims</td>\n",
       "      <td>...</td>\n",
       "      <td>Unknown</td>\n",
       "      <td>2.0</td>\n",
       "      <td>Obidde Cowart, Lavaughn Hunter</td>\n",
       "      <td>NaN</td>\n",
       "      <td>M</td>\n",
       "      <td>Unknown</td>\n",
       "      <td>Not Hispanic or Latino</td>\n",
       "      <td>Other Staff</td>\n",
       "      <td>Y</td>\n",
       "      <td>N</td>\n",
       "    </tr>\n",
       "  </tbody>\n",
       "</table>\n",
       "<p>5 rows × 48 columns</p>\n",
       "</div>"
      ],
      "text/plain": [
       "        Date                          School        City State  \\\n",
       "0   1/5/1970         Hine Junior High School  Washington    DC   \n",
       "1   1/5/1970               Sousa Junior High  Washington    DC   \n",
       "2   1/5/1970             Unnamed High School  Washington    DC   \n",
       "3   2/6/1970     John F. Kennedy High School   Cleveland    OH   \n",
       "4  3/23/1970  David Starr Jordan High School  Long Beach    CA   \n",
       "\n",
       "   Reliability Score (1-5)  Killed (includes shooter)  Wounded  \\\n",
       "0                      3.0                          1      0.0   \n",
       "1                      3.0                          0      1.0   \n",
       "2                      2.0                          0      0.0   \n",
       "3                      2.0                          0      1.0   \n",
       "4                      2.0                          0      2.0   \n",
       "\n",
       "   Total Injured/Killed Victims Gender of Victims (M/F/Both)  \\\n",
       "0                             1                         Male   \n",
       "1                             1                         Male   \n",
       "2                             0                   No Victims   \n",
       "3                             1                         Male   \n",
       "4                             2                         Male   \n",
       "\n",
       "  Victim's Affiliation w/ School         ...           Caliber of Firearm  \\\n",
       "0                        Student         ...                      Unknown   \n",
       "1                        Student         ...                  .22 caliber   \n",
       "2                     No Victims         ...                      Unknown   \n",
       "3                        Student         ...                      Unknown   \n",
       "4               Multiple Victims         ...                      Unknown   \n",
       "\n",
       "  Number of Shooters                    Shooter Name Shooter Age  \\\n",
       "0                1.0                           Minor        15.0   \n",
       "1                1.0                           Minor         NaN   \n",
       "2                1.0                         Unknown         NaN   \n",
       "3                1.0                 Gertis J. Perry        18.0   \n",
       "4                2.0  Obidde Cowart, Lavaughn Hunter         NaN   \n",
       "\n",
       "  Shooter Gender Shooter Race       Shooter Ethnicity  \\\n",
       "0              M      Unknown                 Unknown   \n",
       "1              M      Unknown                 Unknown   \n",
       "2              M      Unknown                 Unknown   \n",
       "3              M      Unknown  Not Hispanic or Latino   \n",
       "4              M      Unknown  Not Hispanic or Latino   \n",
       "\n",
       "  Shooter's Affiliation with School  \\\n",
       "0                           Student   \n",
       "1                           Student   \n",
       "2                           Student   \n",
       "3                           Student   \n",
       "4                       Other Staff   \n",
       "\n",
       "  Shooter had an accomplice who did not fire gun (Y/N) Hostages Taken (Y/N)  \n",
       "0                                                  Y                      N  \n",
       "1                                                  N                      N  \n",
       "2                                                  Y                      N  \n",
       "3                                                  N                      N  \n",
       "4                                                  Y                      N  \n",
       "\n",
       "[5 rows x 48 columns]"
      ]
     },
     "execution_count": 27,
     "metadata": {},
     "output_type": "execute_result"
    }
   ],
   "source": [
    "df.head()"
   ]
  },
  {
   "cell_type": "code",
   "execution_count": 28,
   "metadata": {},
   "outputs": [
    {
     "name": "stdout",
     "output_type": "stream",
     "text": [
      "Our sample size is 1317\n"
     ]
    }
   ],
   "source": [
    "import scipy.stats\n",
    "import numpy as np\n",
    "from scipy import stats\n",
    "# Retrieve basic Statistical values \n",
    "print('Our sample size is ' + str(len(df)))\n"
   ]
  },
  {
   "cell_type": "markdown",
   "metadata": {},
   "source": [
    "With this we can see the sample size is not the largest but we should look at and get a distrubtion. Let's also clean up the data a bit so that we can eliminate non complete data values."
   ]
  },
  {
   "cell_type": "code",
   "execution_count": 32,
   "metadata": {},
   "outputs": [
    {
     "name": "stdout",
     "output_type": "stream",
     "text": [
      "Our sample size is 533\n"
     ]
    }
   ],
   "source": [
    "# Cleaning \n",
    "Caliber_Known_df = df[df['Caliber of Firearm'] != 'Unknown']\n",
    "print('Our sample size is ' + str(len(Caliber_Known_df)))"
   ]
  },
  {
   "cell_type": "code",
   "execution_count": 31,
   "metadata": {},
   "outputs": [
    {
     "data": {
      "image/png": "[encoded data removed]",
      "text/plain": [
       "<Figure size 432x288 with 1 Axes>"
      ]
     },
     "metadata": {},
     "output_type": "display_data"
    }
   ],
   "source": [
    "import matplotlib.pyplot as plt\n",
    "# Graphing \n",
    "plt.hist(df['Killed (includes shooter)'], bins = 10)\n",
    "plt.xlabel('Number Killed')\n",
    "plt.ylabel('Frequency')\n",
    "plt.title('Distrubtion of those killed')\n",
    "plt.show()"
   ]
  },
  {
   "cell_type": "code",
   "execution_count": 33,
   "metadata": {},
   "outputs": [
    {
     "data": {
      "image/png": "[encoded data removed]",
      "text/plain": [
       "<Figure size 432x288 with 1 Axes>"
      ]
     },
     "metadata": {},
     "output_type": "display_data"
    }
   ],
   "source": [
    "import matplotlib.pyplot as plt\n",
    "# Graphing \n",
    "plt.hist(Caliber_Known_df['Killed (includes shooter)'], bins = 10)\n",
    "plt.xlabel('Number Killed')\n",
    "plt.ylabel('Frequency')\n",
    "plt.title('Distrubtion of those killed')\n",
    "plt.show()"
   ]
  },
  {
   "cell_type": "code",
   "execution_count": 34,
   "metadata": {},
   "outputs": [
    {
     "data": {
      "image/png": "[encoded data removed]",
      "text/plain": [
       "<Figure size 432x288 with 1 Axes>"
      ]
     },
     "metadata": {},
     "output_type": "display_data"
    }
   ],
   "source": [
    "# Let's focus on high killing shootings.\n",
    "High_Killing_Shootings_df = df[df['Killed (includes shooter)'] > 5]\n",
    "plt.hist(High_Killing_Shootings_df['Killed (includes shooter)'], bins = 10)\n",
    "plt.xlabel('Number Killed')\n",
    "plt.ylabel('Frequency')\n",
    "plt.title('Distrubtion of those killed')\n",
    "plt.show()"
   ]
  },
  {
   "cell_type": "code",
   "execution_count": 35,
   "metadata": {},
   "outputs": [
    {
     "name": "stdout",
     "output_type": "stream",
     "text": [
      "365      1/17/1989\n",
      "631      4/20/1999\n",
      "795      3/21/2005\n",
      "874      10/2/2006\n",
      "1039    12/14/2012\n",
      "1219    11/14/2017\n",
      "1248     2/14/2018\n",
      "1272     5/18/2018\n",
      "Name: Date, dtype: object\n"
     ]
    }
   ],
   "source": [
    "print(High_Killing_Shootings_df['Date'])"
   ]
  },
  {
   "cell_type": "markdown",
   "metadata": {},
   "source": [
    "Looks like the worst school shootings are happening later and later, lets examine if school shootings are getting worse over time."
   ]
  },
  {
   "cell_type": "code",
   "execution_count": 37,
   "metadata": {},
   "outputs": [
    {
     "data": {
      "image/png": "[encoded data removed]",
      "text/plain": [
       "<Figure size 432x288 with 1 Axes>"
      ]
     },
     "metadata": {},
     "output_type": "display_data"
    }
   ],
   "source": [
    "x = df['Date']\n",
    "y = df['Killed (includes shooter)']\n",
    "plt.scatter(x,y)\n",
    "plt.show()"
   ]
  },
  {
   "cell_type": "code",
   "execution_count": 38,
   "metadata": {},
   "outputs": [
    {
     "data": {
      "text/plain": [
       "714"
      ]
     },
     "execution_count": 38,
     "metadata": {},
     "output_type": "execute_result"
    }
   ],
   "source": [
    "df['Killed (includes shooter)'].sum()"
   ]
  },
  {
   "cell_type": "code",
   "execution_count": 41,
   "metadata": {},
   "outputs": [
    {
     "data": {
      "text/plain": [
       "78"
      ]
     },
     "execution_count": 41,
     "metadata": {},
     "output_type": "execute_result"
    }
   ],
   "source": [
    "(df['Killed (includes shooter)'] > 1).sum()"
   ]
  },
  {
   "cell_type": "code",
   "execution_count": null,
   "metadata": {},
   "outputs": [],
   "source": []
  }
 ],
 "metadata": {
  "kernelspec": {
   "display_name": "Python 3",
   "language": "python",
   "name": "python3"
  },
  "language_info": {
   "codemirror_mode": {
    "name": "ipython",
    "version": 3
   },
   "file_extension": ".py",
   "mimetype": "text/x-python",
   "name": "python",
   "nbconvert_exporter": "python",
   "pygments_lexer": "ipython3",
   "version": "3.6.5"
  }
 },
 "nbformat": 4,
 "nbformat_minor": 2
}
